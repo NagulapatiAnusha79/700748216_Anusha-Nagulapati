{
  "nbformat": 4,
  "nbformat_minor": 0,
  "metadata": {
    "colab": {
      "provenance": []
    },
    "kernelspec": {
      "name": "python3",
      "display_name": "Python 3"
    },
    "language_info": {
      "name": "python"
    }
  },
  "cells": [
    {
      "cell_type": "code",
      "execution_count": 1,
      "metadata": {
        "colab": {
          "base_uri": "https://localhost:8080/"
        },
        "id": "KTEX_OQ9IM3W",
        "outputId": "a4e32e8e-650a-4fc2-8416-4141c1d8b295"
      },
      "outputs": [
        {
          "output_type": "stream",
          "name": "stdout",
          "text": [
            "Enter the string: PYTHON\n",
            "Reversed Resultant String: HTY\n"
          ]
        }
      ],
      "source": [
        "# program 1\n",
        "# Enter the string \"Python\"  from the console\n",
        "input_str = list(input(\"Enter the string: \"))\n",
        "\n",
        "# Delete at least 2 characters (assuming the input string has more than 2 characters)\n",
        "if len(input_str) >= 4:\n",
        "    del input_str[0]\n",
        "    del input_str[-2:]\n",
        "else :\n",
        "    print(\"Input string should have at least 4 characters.\")\n",
        "\n",
        "# Reverse the resultant string\n",
        "final_str = input_str[::-1]\n",
        "\n",
        "# Print the reversed string\n",
        "print(\"Reversed Resultant String:\", \"\".join(final_str))\n"
      ]
    },
    {
      "cell_type": "code",
      "source": [
        "# Program 2\n",
        "num1 = float(input(\"Enter first number: \")) # user input\n",
        "num2 = float(input(\"Enter second number: \")) # user input\n",
        "\n",
        "#Printing the result for four arithmetic operations\n",
        "print(\"Addition: \",num1 + num2) # Addition\n",
        "print(\"Subtraction: \",num1 - num2) # Subtraction\n",
        "print(\"Multiplication: \",num1 * num2) # Multiplication\n",
        "print(\"Division: \",num1 / num2) # simple Division\n"
      ],
      "metadata": {
        "colab": {
          "base_uri": "https://localhost:8080/"
        },
        "id": "piAYLvL1ITWG",
        "outputId": "51055bc4-735f-410d-a285-99b4d3115835"
      },
      "execution_count": 2,
      "outputs": [
        {
          "output_type": "stream",
          "name": "stdout",
          "text": [
            "Enter first number: 12\n",
            "Enter second number: 13\n",
            "Addition:  25.0\n",
            "Subtraction:  -1.0\n",
            "Multiplication:  156.0\n",
            "Division:  0.9230769230769231\n"
          ]
        }
      ]
    },
    {
      "cell_type": "code",
      "source": [
        "# Program 3\n",
        "# Enter the sentence from the user\n",
        "sentence = input(\"Enter a sentence: \")\n",
        "\n",
        "# Replace each occurrence of 'python' with 'pythons'\n",
        "update_sentence = sentence.replace('python', 'pythons')\n",
        "\n",
        "# Print the updated sentence\n",
        "print(\"Modified Sentence:\", update_sentence)\n",
        "\n"
      ],
      "metadata": {
        "colab": {
          "base_uri": "https://localhost:8080/"
        },
        "id": "QLtrD0aEIXJ4",
        "outputId": "e962cdef-3c78-4301-a53d-c8892ed3260b"
      },
      "execution_count": 3,
      "outputs": [
        {
          "output_type": "stream",
          "name": "stdout",
          "text": [
            "Enter a sentence: I love python\n",
            "Modified Sentence: I love pythons\n"
          ]
        }
      ]
    },
    {
      "cell_type": "code",
      "source": [
        "# Program 4\n",
        " # Accept the class score from the user\n",
        "student_score = float(input(\"Enter the score: \"))\n",
        "\n",
        "# calculate the  grade based on the grading scheme\n",
        "if 90 <= student_score <= 100:\n",
        "    grade = 'A'\n",
        "elif 80 <= student_score  < 90:\n",
        "    grade = 'B'\n",
        "elif 70 <= student_score  < 80:\n",
        "    grade = 'C'\n",
        "elif 60 <= student_score  < 70:\n",
        "    grade = 'D'\n",
        "else:\n",
        "    grade = 'F'\n",
        "\n",
        "# Print the grade\n",
        "print(f\"The grade for the student_score {student_score} is: {grade}\")"
      ],
      "metadata": {
        "colab": {
          "base_uri": "https://localhost:8080/"
        },
        "id": "bJE89uHsIdt4",
        "outputId": "c0b8edb6-7d04-48fa-fe4e-f0b1d184f959"
      },
      "execution_count": 4,
      "outputs": [
        {
          "output_type": "stream",
          "name": "stdout",
          "text": [
            "Enter the score: 85\n",
            "The grade for the student_score 85.0 is: B\n"
          ]
        }
      ]
    }
  ]
}