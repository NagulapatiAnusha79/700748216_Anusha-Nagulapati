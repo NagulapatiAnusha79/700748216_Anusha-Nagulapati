{
  "nbformat": 4,
  "nbformat_minor": 0,
  "metadata": {
    "colab": {
      "provenance": [],
      "authorship_tag": "ABX9TyMmQzagUPB9VwbTX7VnyRPU",
      "include_colab_link": true
    },
    "kernelspec": {
      "name": "python3",
      "display_name": "Python 3"
    },
    "language_info": {
      "name": "python"
    }
  },
  "cells": [
    {
      "cell_type": "markdown",
      "metadata": {
        "id": "view-in-github",
        "colab_type": "text"
      },
      "source": [
        "<a href=\"https://colab.research.google.com/github/NagulapatiAnusha79/700748216_Anusha-Nagulapati/blob/main/Untitled1.ipynb\" target=\"_parent\"><img src=\"https://colab.research.google.com/assets/colab-badge.svg\" alt=\"Open In Colab\"/></a>"
      ]
    },
    {
      "cell_type": "code",
      "execution_count": 11,
      "metadata": {
        "colab": {
          "base_uri": "https://localhost:8080/"
        },
        "id": "wYB5vP-GJNZM",
        "outputId": "f8148de3-2a5e-4b6f-cb72-c7b5f79ee997"
      },
      "outputs": [
        {
          "output_type": "stream",
          "name": "stdout",
          "text": [
            "(214, 10)\n",
            "Naïve Bayes\n",
            "Total number of points: 43\n",
            "Mislabeled points : 20\n",
            "Accuracy 53.49%\n",
            "\n",
            "\n",
            "              precision    recall  f1-score   support\n",
            "\n",
            "           1       0.52      0.81      0.63        16\n",
            "           2       0.33      0.17      0.22        12\n",
            "           3       0.00      0.00      0.00         4\n",
            "           5       1.00      0.25      0.40         4\n",
            "           6       0.50      1.00      0.67         1\n",
            "           7       0.75      1.00      0.86         6\n",
            "\n",
            "    accuracy                           0.53        43\n",
            "   macro avg       0.52      0.54      0.46        43\n",
            "weighted avg       0.50      0.53      0.47        43\n",
            "\n",
            "Linear SVM accuracy is: 60.47\n",
            "SVM RBF model accuracy is: 27.91\n",
            "\n",
            "\n",
            "              precision    recall  f1-score   support\n",
            "\n",
            "           1       0.00      0.00      0.00        16\n",
            "           2       0.28      1.00      0.44        12\n",
            "           3       0.00      0.00      0.00         4\n",
            "           5       0.00      0.00      0.00         4\n",
            "           6       0.00      0.00      0.00         1\n",
            "           7       0.00      0.00      0.00         6\n",
            "\n",
            "    accuracy                           0.28        43\n",
            "   macro avg       0.05      0.17      0.07        43\n",
            "weighted avg       0.08      0.28      0.12        43\n",
            "\n"
          ]
        }
      ],
      "source": [
        "# PROGRAM 1\n",
        "# import the packages\n",
        "import pandas as pd\n",
        "from sklearn.svm import SVC\n",
        "from sklearn.naive_bayes import GaussianNB\n",
        "from sklearn.model_selection import train_test_split\n",
        "import time\n",
        "import warnings\n",
        "warnings.filterwarnings(\"ignore\")\n",
        "from sklearn import metrics\n",
        "# upload the file\n",
        "file_name = ('glass.csv')\n",
        "# read the data\n",
        "data = pd.read_csv(file_name)\n",
        "print(data.shape)\n",
        "\n",
        "# Splitting the data into training and testing sets\n",
        "X_train, X_test = train_test_split(\n",
        "    data, test_size=0.2, random_state=int(time.time()))\n",
        "\n",
        "# features columns\n",
        "features = [\n",
        "    \"RI\", \"Na\", \"Mg\", \"Al\", \"Si\", \"K\", \"Ca\", \"Ba\", \"Fe\"\n",
        "]\n",
        "# Naïve Bayes Classifier\n",
        "gauss = GaussianNB()\n",
        "# train the classifier\n",
        "gauss.fit(\n",
        "    X_train[features].values,\n",
        "    X_train[\"Type\"]\n",
        ")\n",
        "# make predictions\n",
        "y_pred = gauss.predict(X_test[features])\n",
        "print(\"Naïve Bayes\\nTotal number of points: {}\\nMislabeled points : {}\\nAccuracy {:05.2f}%\"\n",
        "      .format(\n",
        "          X_test.shape[0],\n",
        "          (X_test[\"Type\"] != y_pred).sum(),\n",
        "          100 * (1 - (X_test[\"Type\"] != y_pred).sum() / X_test.shape[0])\n",
        "      ))\n",
        "print(\"\\n\")\n",
        "# Naïve Bayes Classifier performance\n",
        "print(metrics.classification_report(X_test[\"Type\"], y_pred))\n",
        "# Linear Support Vector Classification\n",
        "svc_linear = SVC(kernel='linear')\n",
        "# train linear SVM model\n",
        "svc_linear.fit(\n",
        "    X_train[features].values,\n",
        "    X_train[\"Type\"]\n",
        ")\n",
        "Y_pred = svc_linear.predict(X_test[features])\n",
        "# Linear SVM Model performance\n",
        "acc_svc = round(svc_linear.score(\n",
        "    X_test[features].values, X_test[\"Type\"]) * 100, 2)\n",
        "print(\"Linear SVM accuracy is:\", acc_svc)\n",
        "# Support vector classifier (SVC) with the radial basis function kernel (RBF)\n",
        "svc_rbf = SVC(kernel='rbf')\n",
        "svc_rbf.fit(\n",
        "    X_train[features].values,\n",
        "    X_train[\"Type\"]\n",
        ")\n",
        "# model predictions\n",
        "Y_pred = svc_rbf.predict(X_test[features])\n",
        "# SVM RBF Model performance\n",
        "acc_svc = round(svc_rbf.score(\n",
        "    X_test[features].values, X_test[\"Type\"]) * 100, 2)\n",
        "print(\"SVM RBF model accuracy is:\", acc_svc)\n",
        "print(\"\\n\")\n",
        "print(metrics.classification_report(X_test[\"Type\"],Y_pred))"
      ]
    },
    {
      "cell_type": "code",
      "source": [
        "# PROGRAM 2\n",
        "# importing the necessary packages\n",
        "import pandas as pd\n",
        "from sklearn.model_selection import train_test_split\n",
        "from sklearn.naive_bayes import GaussianNB\n",
        "from sklearn.metrics import classification_report, accuracy_score\n",
        "\n",
        "# Load the glass dataset into a pandas dataframe\n",
        "glass_df = pd.read_csv('glass.csv')\n",
        "X = glass_df.iloc[:, :-1]\n",
        "Y = glass_df.iloc[:, -1]\n",
        "\n",
        "# Split the data into training and testing sets\n",
        "X_train, X_test, y_train, y_test = train_test_split(X, Y, test_size=0.25, random_state=0)\n",
        "\n",
        "# Initialize Gaussian Naive Bayes classifier\n",
        "gnb_clf = GaussianNB()\n",
        "\n",
        "# Training the classifier on the training data\n",
        "gnb_clf.fit(X_train, y_train)\n",
        "\n",
        "# to make predictions on the test data\n",
        "y_pred = gnb_clf.predict(X_test)\n",
        "\n",
        "# Evaluate the model on test part using the accuracy score and the classification report\n",
        "print('Accuracy:', accuracy_score(y_test, y_pred))\n",
        "print('\\nClassification Report:')\n",
        "print(classification_report(y_test,y_pred))"
      ],
      "metadata": {
        "colab": {
          "base_uri": "https://localhost:8080/"
        },
        "id": "z6VFeTnMOqgs",
        "outputId": "980c8ace-e55c-4b53-d492-9a5ff65b6e9d"
      },
      "execution_count": 7,
      "outputs": [
        {
          "output_type": "stream",
          "name": "stdout",
          "text": [
            "Accuracy: 0.46296296296296297\n",
            "\n",
            "Classification Report:\n",
            "              precision    recall  f1-score   support\n",
            "\n",
            "           1       0.32      0.64      0.43        14\n",
            "           2       0.45      0.21      0.29        24\n",
            "           3       0.50      0.40      0.44         5\n",
            "           5       0.00      0.00      0.00         2\n",
            "           6       0.67      1.00      0.80         2\n",
            "           7       1.00      1.00      1.00         7\n",
            "\n",
            "    accuracy                           0.46        54\n",
            "   macro avg       0.49      0.54      0.49        54\n",
            "weighted avg       0.49      0.46      0.44        54\n",
            "\n"
          ]
        }
      ]
    }
  ]
}
