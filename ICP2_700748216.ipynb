{
  "nbformat": 4,
  "nbformat_minor": 0,
  "metadata": {
    "colab": {
      "provenance": []
    },
    "kernelspec": {
      "name": "python3",
      "display_name": "Python 3"
    },
    "language_info": {
      "name": "python"
    }
  },
  "cells": [
    {
      "cell_type": "code",
      "execution_count": 1,
      "metadata": {
        "colab": {
          "base_uri": "https://localhost:8080/"
        },
        "id": "uJXZfgdfBofF",
        "outputId": "f3cb287c-e27a-4dcc-8b4c-bf12674b24e8"
      },
      "outputs": [
        {
          "output_type": "stream",
          "name": "stdout",
          "text": [
            "Enter first_Name:Anusha\n",
            "Enter Second_Name:Nagulapati\n",
            "full Name: AnushaNagulapati\n",
            "output: AuhNglpt\n"
          ]
        }
      ],
      "source": [
        "#PROGRAM1\n",
        "# method for full name\n",
        "def fullname(first_Name,last_Name):  # Take two parameters first and last names\n",
        "  return f\"{first_Name}{last_Name}\"  # concatenation of first and last names\n",
        "def string_alter(full_name):\n",
        "  return full_name[::2]   # takes full_name parameter and form new string\n",
        "first_Name =input(\"Enter first_Name:\")\n",
        "last_Name = input(\"Enter Second_Name:\")\n",
        "full_name = fullname(first_Name,last_Name) # using fullname function\n",
        "print(\"full Name:\",full_name)\n",
        "output = string_alter(full_name)\n",
        "print(\"output:\",output)"
      ]
    },
    {
      "cell_type": "code",
      "source": [
        "#PROGRAM2\n",
        "f = open(\"Sample_input.txt\",\"w\")\n",
        "f.write(\"Python Course\\n\")\n",
        "f.write(\"Deep learning Course\\n\")\n",
        "f.close()\n",
        "f= open(\"Sample_input.txt\",\"r\")\n",
        "print(f.read())"
      ],
      "metadata": {
        "colab": {
          "base_uri": "https://localhost:8080/"
        },
        "id": "97IwTtP6BwBX",
        "outputId": "e5cdbce4-e339-47b2-d923-0c531d2716e0"
      },
      "execution_count": 2,
      "outputs": [
        {
          "output_type": "stream",
          "name": "stdout",
          "text": [
            "Python Course\n",
            "Deep learning Course\n",
            "\n"
          ]
        }
      ]
    },
    {
      "cell_type": "code",
      "source": [
        "from collections import Counter\n",
        "\n",
        "# Read input from input.txt\n",
        "with open('Sample_input.txt', 'r') as file:\n",
        "    sentences = file.readlines()\n",
        "\n",
        "# Count the words in each line by processing\n",
        "wordcount_each_line = []\n",
        "\n",
        "for sentence in sentences:\n",
        "    words = sentence.strip().split()\n",
        "    wordcount_each_line.append(Counter(words))\n",
        "\n",
        "# Print the Sentences\n",
        "for sentence in sentences:\n",
        "    print(sentence.strip())\n",
        "\n",
        "# Print the count for each word\n",
        "print(\"Word_Count:\")\n",
        "for word, count in Counter(word for wc in wordcount_each_line for word in wc).items():\n",
        "    print(f\"{word}: {count}\")\n",
        "\n",
        "# Store the output in sampleoutput.txt\n",
        "with open('Sample_output.txt', 'w') as output_file:\n",
        "    for sentence in sentences:\n",
        "        output_file.write(sentence)\n",
        "    output_file.write(\"Word_Count:\\n\")\n",
        "    for word, count in Counter(word for wc in wordcount_each_line for word in wc).items():\n",
        "        output_file.write(f\"{word}: {count}\\n\")"
      ],
      "metadata": {
        "colab": {
          "base_uri": "https://localhost:8080/"
        },
        "id": "p-WrM4QeBzQ9",
        "outputId": "5eed7ff7-f2e9-40e7-9be5-5682c2ad6498"
      },
      "execution_count": 3,
      "outputs": [
        {
          "output_type": "stream",
          "name": "stdout",
          "text": [
            "Python Course\n",
            "Deep learning Course\n",
            "Word_Count:\n",
            "Python: 1\n",
            "Course: 2\n",
            "Deep: 1\n",
            "learning: 1\n"
          ]
        }
      ]
    },
    {
      "cell_type": "code",
      "source": [
        "#PROGRAM 3\n",
        "# code below is the conversion of heights from inches to cms\n",
        "# using Nested loop & List comprehensions\n",
        "Listofheights = []\n",
        "elements = int(input(\"Enter size of list: \"))\n",
        "for e in range(elements):\n",
        "    Listofheights.append(float(input()))\n",
        "tempListofHeights= [2.54 * item for item in Listofheights]\n",
        "print(tempListofHeights)"
      ],
      "metadata": {
        "colab": {
          "base_uri": "https://localhost:8080/"
        },
        "id": "vjNjvgI7B2Lm",
        "outputId": "2414dbb0-2856-46ba-ee21-d0540a44bd4a"
      },
      "execution_count": 4,
      "outputs": [
        {
          "output_type": "stream",
          "name": "stdout",
          "text": [
            "Enter size of list: 3\n",
            "12\n",
            "13\n",
            "14\n",
            "[30.48, 33.02, 35.56]\n"
          ]
        }
      ]
    }
  ]
}