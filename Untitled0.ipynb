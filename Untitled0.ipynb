{
  "nbformat": 4,
  "nbformat_minor": 0,
  "metadata": {
    "colab": {
      "provenance": [],
      "authorship_tag": "ABX9TyOYqqK/PhwfWUAaVrMxDMDz",
      "include_colab_link": true
    },
    "kernelspec": {
      "name": "python3",
      "display_name": "Python 3"
    },
    "language_info": {
      "name": "python"
    }
  },
  "cells": [
    {
      "cell_type": "markdown",
      "metadata": {
        "id": "view-in-github",
        "colab_type": "text"
      },
      "source": [
        "<a href=\"https://colab.research.google.com/github/NagulapatiAnusha79/700748216_Anusha-Nagulapati/blob/main/Untitled0.ipynb\" target=\"_parent\"><img src=\"https://colab.research.google.com/assets/colab-badge.svg\" alt=\"Open In Colab\"/></a>"
      ]
    },
    {
      "cell_type": "code",
      "execution_count": 2,
      "metadata": {
        "colab": {
          "base_uri": "https://localhost:8080/"
        },
        "id": "WHceD5VYEJYp",
        "outputId": "75232a93-31bd-4f96-9a61-0a8c5314c374"
      },
      "outputs": [
        {
          "output_type": "stream",
          "name": "stdout",
          "text": [
            "Average Salary of EmployeeOne: 1000.0\n",
            "Average Salary of EmployeeTwo: 3000.0\n",
            "Average Salary of Fulltime_Employee: 2000.0\n",
            "Total number of employees: 3\n"
          ]
        }
      ],
      "source": [
        "# Employee class is created\n",
        "class Employee(object):\n",
        "    # data member to count the number of Employees\n",
        "    employee_Count = 0\n",
        "\n",
        "    # constructor is created to initialize variables\n",
        "    def __init__(self, name, family, salary, department):\n",
        "        self.name = name\n",
        "        self.family = family\n",
        "        self.salary = salary\n",
        "        self.department = department\n",
        "        Employee.employee_Count += 1\n",
        "\n",
        "    # function is created for average salary\n",
        "    def average_salary(self):\n",
        "        return self.salary / Employee.employee_Count\n",
        "\n",
        "# Fulltime Employee class is created to inherit the properties of Employee class\n",
        "class Fulltime_Employee(Employee):\n",
        "    def __init__(self, name, family, salary, department):\n",
        "        Employee.__init__(self, name, family, salary, department)\n",
        "\n",
        "EmployeeOne = Employee(\"Anusha\", \"Nagulapati\", 3000, \"Sales\")\n",
        "EmployeeTwo = Employee(\"Priyanka\", \"Pinnamaneni\", 9000, \"HR\")\n",
        "EmployeeThree = Fulltime_Employee(\"Sindhu\", \"Padhuri\", 6000, \"IT\")\n",
        "\n",
        "\n",
        "print(\"Average Salary of EmployeeOne:\", EmployeeOne.average_salary())\n",
        "print(\"Average Salary of EmployeeTwo:\", EmployeeTwo.average_salary())\n",
        "print(\"Average Salary of Fulltime_Employee:\", EmployeeThree.average_salary())\n",
        "print(\"Total number of employees:\", Employee.employee_Count )"
      ]
    },
    {
      "cell_type": "code",
      "source": [
        "import numpy as np\n",
        "\n",
        "# numpy array is created with random values in 4 by 5 size\n",
        "rand_Array = np.random.uniform(low=1, high=20, size=(4,5))\n",
        "\n",
        "# Indices of max values\n",
        "max_Indices = np.argmax(rand_Array, axis=1)\n",
        "\n",
        "# The row indices is finding\n",
        "row_Indices = np.arange(rand_Array.shape[0])\n",
        "\n",
        "# exact positions of max valuesin the array\n",
        "position_Indices = np.array([row_Indices, max_Indices])\n",
        "\n",
        "# the array is converted into an array of flat indices\n",
        "linear_Indices = np.ravel_multi_index(position_Indices, rand_Array.shape)\n",
        "\n",
        "# reshaping the linear array into multi dimensionanl array\n",
        "rand_Array.reshape((-1))[linear_Indices] = 0\n",
        "\n",
        "print(rand_Array)"
      ],
      "metadata": {
        "colab": {
          "base_uri": "https://localhost:8080/"
        },
        "id": "TcasIZS2Efvy",
        "outputId": "c0511cfa-353a-4efd-ca94-0891e769f604"
      },
      "execution_count": 3,
      "outputs": [
        {
          "output_type": "stream",
          "name": "stdout",
          "text": [
            "[[19.05280304  1.41327388 17.4010264   0.          5.79024425]\n",
            " [ 8.55295451  0.         14.94568388  4.97031558 10.43014941]\n",
            " [ 0.          3.64085055  9.55254944 15.50983571 10.93667562]\n",
            " [ 7.91867448 10.15684356 11.0787523   0.         13.86519788]]\n"
          ]
        }
      ]
    }
  ]
}