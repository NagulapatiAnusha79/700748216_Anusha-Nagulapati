{
  "nbformat": 4,
  "nbformat_minor": 0,
  "metadata": {
    "colab": {
      "provenance": [],
      "authorship_tag": "ABX9TyOO+zDwYhrv3YlQvSAlP4/7",
      "include_colab_link": true
    },
    "kernelspec": {
      "name": "python3",
      "display_name": "Python 3"
    },
    "language_info": {
      "name": "python"
    }
  },
  "cells": [
    {
      "cell_type": "markdown",
      "metadata": {
        "id": "view-in-github",
        "colab_type": "text"
      },
      "source": [
        "<a href=\"https://colab.research.google.com/github/NagulapatiAnusha79/700748216_Anusha-Nagulapati/blob/main/Untitled5.ipynb\" target=\"_parent\"><img src=\"https://colab.research.google.com/assets/colab-badge.svg\" alt=\"Open In Colab\"/></a>"
      ]
    },
    {
      "cell_type": "code",
      "execution_count": 3,
      "metadata": {
        "colab": {
          "base_uri": "https://localhost:8080/"
        },
        "id": "S9MR-ybb-0d8",
        "outputId": "67cb17c8-8359-4b35-d9af-2ce9e410c555"
      },
      "outputs": [
        {
          "output_type": "stream",
          "name": "stderr",
          "text": [
            "<ipython-input-3-613f9475d5c4>:23: SettingWithCopyWarning: \n",
            "A value is trying to be set on a copy of a slice from a DataFrame.\n",
            "Try using .loc[row_indexer,col_indexer] = value instead\n",
            "\n",
            "See the caveats in the documentation: https://pandas.pydata.org/pandas-docs/stable/user_guide/indexing.html#returning-a-view-versus-a-copy\n",
            "  data['text'] = data['text'].apply(lambda x: x.lower())\n",
            "<ipython-input-3-613f9475d5c4>:24: SettingWithCopyWarning: \n",
            "A value is trying to be set on a copy of a slice from a DataFrame.\n",
            "Try using .loc[row_indexer,col_indexer] = value instead\n",
            "\n",
            "See the caveats in the documentation: https://pandas.pydata.org/pandas-docs/stable/user_guide/indexing.html#returning-a-view-versus-a-copy\n",
            "  data['text'] = data['text'].apply((lambda x: re.sub('[^a-zA-z0-9\\s]', '', x)))\n"
          ]
        }
      ],
      "source": [
        "import pandas as pd #Basic packages for creating dataframes and loading dataset\n",
        "import numpy as np\n",
        "import matplotlib.pyplot as plt #Package for visualization\n",
        "import re #importing package for Regular expression operations\n",
        "from sklearn.model_selection import train_test_split #Package for splitting the data\n",
        "from sklearn.preprocessing import LabelEncoder #Package for conversion of categorical to Numerical\n",
        "from keras.preprocessing.text import Tokenizer #Tokenization\n",
        "from keras.preprocessing.sequence import pad_sequences #Add zeros or crop based on the length\n",
        "from keras.models import Sequential #Sequential Neural Network\n",
        "from keras.layers import Dense, Embedding, LSTM, SpatialDropout1D #For layers in Neural Network\n",
        "from keras.utils import to_categorical\n",
        "\n",
        "\n",
        "import pandas as pd\n",
        "\n",
        "# Load the dataset as a Pandas DataFrame\n",
        "dataset = pd.read_csv('Sentiment.csv')\n",
        "\n",
        "# Select only the necessary columns 'text' and 'sentiment'\n",
        "mask = dataset.columns.isin(['text', 'sentiment'])\n",
        "data = dataset.loc[:, mask]\n",
        "\n",
        "data['text'] = data['text'].apply(lambda x: x.lower())\n",
        "data['text'] = data['text'].apply((lambda x: re.sub('[^a-zA-z0-9\\s]', '', x)))"
      ]
    },
    {
      "cell_type": "code",
      "source": [
        "for idx, row in data.iterrows():\n",
        "    row[0] = row[0].replace('rt', ' ') #Removing Retweets\n",
        "\n",
        "max_fatures = 2000\n",
        "tokenizer = Tokenizer(num_words=max_fatures, split=' ') #Maximum words is 2000 to tokenize sentence\n",
        "tokenizer.fit_on_texts(data['text'].values)\n",
        "X = tokenizer.texts_to_sequences(data['text'].values) #taking values to feature matrix\n",
        "\n",
        "X = pad_sequences(X) #Padding the feature matrix\n",
        "\n",
        "embed_dim = 128 #Dimension of the Embedded layer\n",
        "lstm_out = 196 #Long short-term memory (LSTM) layer neurons\n",
        "\n",
        "def createmodel():\n",
        "    model = Sequential() #Sequential Neural Network\n",
        "    model.add(Embedding(max_fatures, embed_dim,input_length = X.shape[1])) #input dimension 2000 Neurons, output dimension 128 Neurons\n",
        "    model.add(LSTM(lstm_out, dropout=0.2, recurrent_dropout=0.2)) #Drop out 20%, 196 output Neurons, recurrent dropout 20%\n",
        "    model.add(Dense(3,activation='softmax')) #3 output neurons[positive, Neutral, Negative], softmax as activation\n",
        "    model.compile(loss = 'categorical_crossentropy', optimizer='adam',metrics = ['accuracy']) #Compiling the model\n",
        "    return model\n",
        "# print(model.summary())\n",
        "\n",
        "labelencoder = LabelEncoder() #Applying label Encoding on the label matrix\n",
        "integer_encoded = labelencoder.fit_transform(data['sentiment']) #fitting the model\n",
        "y = to_categorical(integer_encoded)\n",
        "X_train, X_test, Y_train, Y_test = train_test_split(X,y, test_size = 0.33, random_state = 42) #67% training data, 33% test data split\n",
        "\n",
        "batch_size = 32 #Batch size 32\n",
        "model = createmodel() #Function call to Sequential Neural Network\n",
        "model.fit(X_train, Y_train, epochs = 1, batch_size=batch_size, verbose = 2) #verbose the higher, the more messages\n",
        "score,acc = model.evaluate(X_test,Y_test,verbose=2,batch_size=batch_size) #evaluating the model\n",
        "print(score)\n",
        "print(acc)\n",
        "\n"
      ],
      "metadata": {
        "colab": {
          "base_uri": "https://localhost:8080/"
        },
        "id": "v2skXiQR_fSA",
        "outputId": "0b2d5adf-2f07-42a6-db7f-3a6070e0e44f"
      },
      "execution_count": 4,
      "outputs": [
        {
          "output_type": "stream",
          "name": "stdout",
          "text": [
            "291/291 - 27s - loss: 0.8255 - accuracy: 0.6454 - 27s/epoch - 91ms/step\n",
            "144/144 - 2s - loss: 0.7679 - accuracy: 0.6673 - 2s/epoch - 15ms/step\n",
            "0.7679471969604492\n",
            "0.6673219799995422\n"
          ]
        }
      ]
    },
    {
      "cell_type": "code",
      "source": [
        "print(model.metrics_names) #metrics of the model"
      ],
      "metadata": {
        "colab": {
          "base_uri": "https://localhost:8080/"
        },
        "id": "g_IRkVKaABfv",
        "outputId": "c833b1a2-40a8-445f-e00d-3f42308fdfa5"
      },
      "execution_count": 5,
      "outputs": [
        {
          "output_type": "stream",
          "name": "stdout",
          "text": [
            "['loss', 'accuracy']\n"
          ]
        }
      ]
    },
    {
      "cell_type": "code",
      "source": [
        "model.save('sentimentAnalysis.h5') #Saving the model"
      ],
      "metadata": {
        "colab": {
          "base_uri": "https://localhost:8080/"
        },
        "id": "YNj4nZTPAG8e",
        "outputId": "6df6a0c3-c2b5-4a8a-9f84-be5c4f8e72c0"
      },
      "execution_count": 6,
      "outputs": [
        {
          "output_type": "stream",
          "name": "stderr",
          "text": [
            "/usr/local/lib/python3.10/dist-packages/keras/src/engine/training.py:3103: UserWarning: You are saving your model as an HDF5 file via `model.save()`. This file format is considered legacy. We recommend using instead the native Keras format, e.g. `model.save('my_model.keras')`.\n",
            "  saving_api.save_model(\n"
          ]
        }
      ]
    },
    {
      "cell_type": "code",
      "source": [
        "from keras.models import load_model #Importing the package for importing the saved model\n",
        "model= load_model('sentimentAnalysis.h5') #loading the saved model\n",
        "print(integer_encoded)\n",
        "print(data['sentiment'])"
      ],
      "metadata": {
        "colab": {
          "base_uri": "https://localhost:8080/"
        },
        "id": "IkFpfggtAPl-",
        "outputId": "67c2494e-1cc0-4450-f027-74ab7f26d286"
      },
      "execution_count": 9,
      "outputs": [
        {
          "output_type": "stream",
          "name": "stdout",
          "text": [
            "[1 2 1 ... 2 0 2]\n",
            "0         Neutral\n",
            "1        Positive\n",
            "2         Neutral\n",
            "3        Positive\n",
            "4        Positive\n",
            "           ...   \n",
            "13866    Negative\n",
            "13867    Positive\n",
            "13868    Positive\n",
            "13869    Negative\n",
            "13870    Positive\n",
            "Name: sentiment, Length: 13871, dtype: object\n"
          ]
        }
      ]
    },
    {
      "cell_type": "code",
      "source": [
        "# Predicting on the text data\n",
        "sentence = ['A lot of good things are happening. We are respected again throughout the world, and that is a great thing.@realDonaldTrump']\n",
        "sentence = tokenizer.texts_to_sequences(sentence) # Tokenizing the sentence\n",
        "sentence = pad_sequences(sentence, maxlen=28, dtype='int32', value=0) # Padding the sentence\n",
        "sentiment_probs = model.predict(sentence, batch_size=1, verbose=2)[0] # Predicting the sentence text\n",
        "sentiment = np.argmax(sentiment_probs)\n",
        "\n",
        "print(sentiment_probs)\n",
        "if sentiment == 0:\n",
        "    print(\"Neutral\")\n",
        "elif sentiment < 0:\n",
        "    print(\"Negative\")\n",
        "elif sentiment > 0:\n",
        "    print(\"Positive\")\n",
        "else:\n",
        "    print(\"Cannot be determined\")"
      ],
      "metadata": {
        "colab": {
          "base_uri": "https://localhost:8080/"
        },
        "id": "cT9pZuciAf7H",
        "outputId": "52b06075-810c-4b8d-f8fa-93e167d8bc58"
      },
      "execution_count": 10,
      "outputs": [
        {
          "output_type": "stream",
          "name": "stdout",
          "text": [
            "1/1 - 0s - 203ms/epoch - 203ms/step\n",
            "[0.49654704 0.15901561 0.34443736]\n",
            "Neutral\n"
          ]
        }
      ]
    },
    {
      "cell_type": "code",
      "source": [
        "pip install scikeras"
      ],
      "metadata": {
        "colab": {
          "base_uri": "https://localhost:8080/"
        },
        "id": "yR06O8yhAoUa",
        "outputId": "e4011f66-bd39-4c57-ee00-42668e20c708"
      },
      "execution_count": 12,
      "outputs": [
        {
          "output_type": "stream",
          "name": "stdout",
          "text": [
            "Collecting scikeras\n",
            "  Downloading scikeras-0.12.0-py3-none-any.whl (27 kB)\n",
            "Requirement already satisfied: packaging>=0.21 in /usr/local/lib/python3.10/dist-packages (from scikeras) (24.0)\n",
            "Requirement already satisfied: scikit-learn>=1.0.0 in /usr/local/lib/python3.10/dist-packages (from scikeras) (1.2.2)\n",
            "Requirement already satisfied: numpy>=1.17.3 in /usr/local/lib/python3.10/dist-packages (from scikit-learn>=1.0.0->scikeras) (1.25.2)\n",
            "Requirement already satisfied: scipy>=1.3.2 in /usr/local/lib/python3.10/dist-packages (from scikit-learn>=1.0.0->scikeras) (1.11.4)\n",
            "Requirement already satisfied: joblib>=1.1.1 in /usr/local/lib/python3.10/dist-packages (from scikit-learn>=1.0.0->scikeras) (1.3.2)\n",
            "Requirement already satisfied: threadpoolctl>=2.0.0 in /usr/local/lib/python3.10/dist-packages (from scikit-learn>=1.0.0->scikeras) (3.4.0)\n",
            "Installing collected packages: scikeras\n",
            "Successfully installed scikeras-0.12.0\n"
          ]
        }
      ]
    },
    {
      "cell_type": "code",
      "source": [
        "from scikeras.wrappers import KerasClassifier #importing Keras classifier\n",
        "\n",
        "from sklearn.model_selection import GridSearchCV #importing Grid search CV\n",
        "\n",
        "model = KerasClassifier(model=createmodel,verbose=2) #initiating model to test performance by applying multiple hyper parameters\n",
        "batch_size= [10, 20, 40] #hyper parameter batch_size\n",
        "epochs = [1, 2] #hyper parameter no. of epochs\n",
        "param_grid= {'batch_size':batch_size, 'epochs':epochs} #creating dictionary for batch size, no. of epochs\n",
        "grid  = GridSearchCV(estimator=model, param_grid=param_grid) #Applying dictionary with hyper parameters\n",
        "grid_result= grid.fit(X_train,Y_train) #Fitting the model\n",
        "# summarize results\n",
        "print(\"Best: %f using %s\" % (grid_result.best_score_, grid_result.best_params_)) #best score, best hyper parameters"
      ],
      "metadata": {
        "colab": {
          "base_uri": "https://localhost:8080/"
        },
        "id": "mStJh9QVAvlq",
        "outputId": "66ad488a-9519-44c1-867c-4df33d1a5023"
      },
      "execution_count": 13,
      "outputs": [
        {
          "output_type": "stream",
          "name": "stdout",
          "text": [
            "744/744 - 61s - loss: 0.8279 - accuracy: 0.6501 - 61s/epoch - 82ms/step\n",
            "186/186 - 2s - 2s/epoch - 12ms/step\n",
            "744/744 - 54s - loss: 0.8236 - accuracy: 0.6469 - 54s/epoch - 73ms/step\n",
            "186/186 - 2s - 2s/epoch - 12ms/step\n",
            "744/744 - 54s - loss: 0.8231 - accuracy: 0.6433 - 54s/epoch - 72ms/step\n",
            "186/186 - 2s - 2s/epoch - 8ms/step\n",
            "744/744 - 54s - loss: 0.8259 - accuracy: 0.6432 - 54s/epoch - 73ms/step\n",
            "186/186 - 2s - 2s/epoch - 9ms/step\n",
            "744/744 - 56s - loss: 0.8201 - accuracy: 0.6473 - 56s/epoch - 76ms/step\n",
            "186/186 - 2s - 2s/epoch - 10ms/step\n",
            "Epoch 1/2\n",
            "744/744 - 55s - loss: 0.8262 - accuracy: 0.6447 - 55s/epoch - 74ms/step\n",
            "Epoch 2/2\n",
            "744/744 - 53s - loss: 0.6796 - accuracy: 0.7038 - 53s/epoch - 72ms/step\n",
            "186/186 - 2s - 2s/epoch - 12ms/step\n",
            "Epoch 1/2\n",
            "744/744 - 55s - loss: 0.8206 - accuracy: 0.6461 - 55s/epoch - 73ms/step\n",
            "Epoch 2/2\n",
            "744/744 - 52s - loss: 0.6817 - accuracy: 0.7150 - 52s/epoch - 70ms/step\n",
            "186/186 - 2s - 2s/epoch - 13ms/step\n",
            "Epoch 1/2\n",
            "744/744 - 59s - loss: 0.8269 - accuracy: 0.6477 - 59s/epoch - 79ms/step\n",
            "Epoch 2/2\n",
            "744/744 - 55s - loss: 0.6750 - accuracy: 0.7166 - 55s/epoch - 74ms/step\n",
            "186/186 - 2s - 2s/epoch - 9ms/step\n",
            "Epoch 1/2\n",
            "744/744 - 56s - loss: 0.8268 - accuracy: 0.6461 - 56s/epoch - 75ms/step\n",
            "Epoch 2/2\n",
            "744/744 - 52s - loss: 0.6785 - accuracy: 0.7119 - 52s/epoch - 70ms/step\n",
            "186/186 - 2s - 2s/epoch - 9ms/step\n",
            "Epoch 1/2\n",
            "744/744 - 54s - loss: 0.8243 - accuracy: 0.6469 - 54s/epoch - 72ms/step\n",
            "Epoch 2/2\n",
            "744/744 - 53s - loss: 0.6689 - accuracy: 0.7166 - 53s/epoch - 71ms/step\n",
            "186/186 - 2s - 2s/epoch - 9ms/step\n",
            "372/372 - 33s - loss: 0.8326 - accuracy: 0.6450 - 33s/epoch - 89ms/step\n",
            "93/93 - 1s - 1s/epoch - 13ms/step\n",
            "372/372 - 32s - loss: 0.8285 - accuracy: 0.6426 - 32s/epoch - 87ms/step\n",
            "93/93 - 1s - 1s/epoch - 13ms/step\n",
            "372/372 - 32s - loss: 0.8247 - accuracy: 0.6415 - 32s/epoch - 86ms/step\n",
            "93/93 - 1s - 1s/epoch - 13ms/step\n",
            "372/372 - 33s - loss: 0.8283 - accuracy: 0.6449 - 33s/epoch - 88ms/step\n",
            "93/93 - 1s - 1s/epoch - 12ms/step\n",
            "372/372 - 34s - loss: 0.8243 - accuracy: 0.6441 - 34s/epoch - 90ms/step\n",
            "93/93 - 1s - 1s/epoch - 13ms/step\n",
            "Epoch 1/2\n",
            "372/372 - 32s - loss: 0.8302 - accuracy: 0.6477 - 32s/epoch - 85ms/step\n",
            "Epoch 2/2\n",
            "372/372 - 30s - loss: 0.6830 - accuracy: 0.7143 - 30s/epoch - 79ms/step\n",
            "93/93 - 2s - 2s/epoch - 16ms/step\n",
            "Epoch 1/2\n",
            "372/372 - 31s - loss: 0.8304 - accuracy: 0.6423 - 31s/epoch - 84ms/step\n",
            "Epoch 2/2\n",
            "372/372 - 29s - loss: 0.6877 - accuracy: 0.7053 - 29s/epoch - 77ms/step\n",
            "93/93 - 1s - 1s/epoch - 13ms/step\n",
            "Epoch 1/2\n",
            "372/372 - 34s - loss: 0.8336 - accuracy: 0.6419 - 34s/epoch - 91ms/step\n",
            "Epoch 2/2\n",
            "372/372 - 31s - loss: 0.6809 - accuracy: 0.7121 - 31s/epoch - 83ms/step\n",
            "93/93 - 1s - 1s/epoch - 14ms/step\n",
            "Epoch 1/2\n",
            "372/372 - 33s - loss: 0.8310 - accuracy: 0.6426 - 33s/epoch - 88ms/step\n",
            "Epoch 2/2\n",
            "372/372 - 30s - loss: 0.6806 - accuracy: 0.7064 - 30s/epoch - 80ms/step\n",
            "93/93 - 2s - 2s/epoch - 18ms/step\n",
            "Epoch 1/2\n",
            "372/372 - 31s - loss: 0.8359 - accuracy: 0.6374 - 31s/epoch - 84ms/step\n",
            "Epoch 2/2\n",
            "372/372 - 29s - loss: 0.6768 - accuracy: 0.7095 - 29s/epoch - 79ms/step\n",
            "93/93 - 1s - 1s/epoch - 13ms/step\n",
            "186/186 - 22s - loss: 0.8454 - accuracy: 0.6353 - 22s/epoch - 117ms/step\n",
            "47/47 - 1s - 848ms/epoch - 18ms/step\n",
            "186/186 - 21s - loss: 0.8556 - accuracy: 0.6336 - 21s/epoch - 114ms/step\n",
            "47/47 - 1s - 867ms/epoch - 18ms/step\n",
            "186/186 - 20s - loss: 0.8411 - accuracy: 0.6377 - 20s/epoch - 105ms/step\n",
            "47/47 - 1s - 815ms/epoch - 17ms/step\n",
            "186/186 - 22s - loss: 0.8477 - accuracy: 0.6358 - 22s/epoch - 118ms/step\n",
            "47/47 - 1s - 859ms/epoch - 18ms/step\n",
            "186/186 - 21s - loss: 0.8516 - accuracy: 0.6320 - 21s/epoch - 113ms/step\n",
            "47/47 - 1s - 847ms/epoch - 18ms/step\n",
            "Epoch 1/2\n",
            "186/186 - 21s - loss: 0.8480 - accuracy: 0.6337 - 21s/epoch - 111ms/step\n",
            "Epoch 2/2\n",
            "186/186 - 18s - loss: 0.6907 - accuracy: 0.7024 - 18s/epoch - 98ms/step\n",
            "47/47 - 1s - 836ms/epoch - 18ms/step\n",
            "Epoch 1/2\n",
            "186/186 - 20s - loss: 0.8462 - accuracy: 0.6340 - 20s/epoch - 105ms/step\n",
            "Epoch 2/2\n",
            "186/186 - 18s - loss: 0.6891 - accuracy: 0.7103 - 18s/epoch - 95ms/step\n",
            "47/47 - 1s - 821ms/epoch - 17ms/step\n",
            "Epoch 1/2\n",
            "186/186 - 22s - loss: 0.8441 - accuracy: 0.6351 - 22s/epoch - 120ms/step\n",
            "Epoch 2/2\n",
            "186/186 - 19s - loss: 0.6884 - accuracy: 0.7033 - 19s/epoch - 101ms/step\n",
            "47/47 - 1s - 866ms/epoch - 18ms/step\n",
            "Epoch 1/2\n",
            "186/186 - 21s - loss: 0.8481 - accuracy: 0.6351 - 21s/epoch - 113ms/step\n",
            "Epoch 2/2\n",
            "186/186 - 18s - loss: 0.6961 - accuracy: 0.6990 - 18s/epoch - 99ms/step\n",
            "47/47 - 1s - 848ms/epoch - 18ms/step\n",
            "Epoch 1/2\n",
            "186/186 - 20s - loss: 0.8471 - accuracy: 0.6414 - 20s/epoch - 108ms/step\n",
            "Epoch 2/2\n",
            "186/186 - 18s - loss: 0.6822 - accuracy: 0.7118 - 18s/epoch - 96ms/step\n",
            "47/47 - 1s - 840ms/epoch - 18ms/step\n",
            "Epoch 1/2\n",
            "465/465 - 43s - loss: 0.8147 - accuracy: 0.6510 - 43s/epoch - 92ms/step\n",
            "Epoch 2/2\n",
            "465/465 - 40s - loss: 0.6758 - accuracy: 0.7137 - 40s/epoch - 86ms/step\n",
            "Best: 0.678144 using {'batch_size': 20, 'epochs': 2}\n"
          ]
        }
      ]
    }
  ]
}
